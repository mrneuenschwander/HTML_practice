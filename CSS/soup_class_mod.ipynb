{
 "cells": [
  {
   "cell_type": "code",
   "execution_count": 3,
   "metadata": {},
   "outputs": [],
   "source": [
    "from bs4 import BeautifulSoup as soup\n",
    "import pandas as pd"
   ]
  },
  {
   "cell_type": "code",
   "execution_count": 4,
   "metadata": {},
   "outputs": [],
   "source": [
    "with open('css.html', 'r') as f: \n",
    "        html = f.read() "
   ]
  },
  {
   "cell_type": "code",
   "execution_count": 5,
   "metadata": {},
   "outputs": [
    {
     "data": {
      "text/plain": [
       "'<!DOCTYPE html>\\n<html lang=\"en\">\\n\\n<head>\\n    <meta charset=\"UTF-8\">\\n    <meta http-equiv=\"X-UA-Compatible\" content=\"IE=edge\">\\n    <meta name=\"viewport\" content=\"width=device-width, initial-scale=1.0\">\\n    <title>Document</title>\\n</head>\\n\\n<body>\\n    <h1>pandas</h1>\\n    <blockquote>pandas is a powerful Python data analysis library. </blockquote>\\n\\n    <div id=\"start\" , class=\"section\">\\n        <h3 class=\"section-header\">Getting Started</h3>\\n        <ul class=\"pandas-ul\">\\n            <a href=\"https://pandas.pydata.org/getting_started.html\">\\n                <li>Install pandas</li>\\n            </a>\\n            <a href=\"https://pandas.pydata.org/docs/getting_started/index.html\">\\n                <li>Getting started</li>\\n            </a>\\n        </ul>\\n    </div>\\n\\n    <div id=\"documentation\" , class=\"section\">\\n        <h3 class=\"section-header\">Documentation</h3>\\n        <ul class=\"pandas-ul\">\\n            <a href=\"https://pandas.pydata.org/docs/user_guide/index.html\">\\n                <li>User guide</li>\\n            </a>\\n            <a href=\"https://pandas.pydata.org/docs/reference/index.html\">\\n                <li>API reference</li>\\n            </a>\\n            <a href=\"https://pandas.pydata.org/docs/development/index.html\">\\n                <li>How to contribute to pandas</li>\\n            </a>\\n        </ul>\\n    </div>\\n\\n    <div id=\"community\" , class=\"section\">\\n        <h3 class=\"section-header\">The pandas Community</h3>\\n        <ul class=\"pandas-ul\">\\n            <a href=\"https://pandas.pydata.org/about/index.html\">\\n                <li>More about pandas</li>\\n            </a>\\n            <a href=\"https://stackoverflow.com/questions/tagged/pandas\">\\n                <li>Have questions?</li>\\n            </a>\\n            <a href=\"https://pandas.pydata.org/community/ecosystem.html\">\\n                <li>The pandas ecosystem</li>\\n            </a>\\n        </ul>\\n    </div>\\n</body>\\n\\n</html>'"
      ]
     },
     "execution_count": 5,
     "metadata": {},
     "output_type": "execute_result"
    }
   ],
   "source": [
    "html"
   ]
  },
  {
   "cell_type": "code",
   "execution_count": 6,
   "metadata": {},
   "outputs": [],
   "source": [
    "html_soup = soup(html, 'html.parser')"
   ]
  },
  {
   "cell_type": "code",
   "execution_count": 25,
   "metadata": {},
   "outputs": [
    {
     "ename": "AttributeError",
     "evalue": "ResultSet object has no attribute 'text'. You're probably treating a list of elements like a single element. Did you call find_all() when you meant to call find()?",
     "output_type": "error",
     "traceback": [
      "\u001b[0;31m---------------------------------------------------------------------------\u001b[0m",
      "\u001b[0;31mAttributeError\u001b[0m                            Traceback (most recent call last)",
      "\u001b[0;32m/var/folders/lj/jz5ln8pn18b9q3k4w9w5d73r0000gn/T/ipykernel_40603/2311520320.py\u001b[0m in \u001b[0;36m<module>\u001b[0;34m\u001b[0m\n\u001b[1;32m      1\u001b[0m \u001b[0mh1\u001b[0m \u001b[0;34m=\u001b[0m \u001b[0mhtml_soup\u001b[0m\u001b[0;34m.\u001b[0m\u001b[0mfind_all\u001b[0m\u001b[0;34m(\u001b[0m\u001b[0;34m\"h1\"\u001b[0m\u001b[0;34m)\u001b[0m\u001b[0;34m\u001b[0m\u001b[0;34m\u001b[0m\u001b[0m\n\u001b[0;32m----> 2\u001b[0;31m \u001b[0mprint\u001b[0m\u001b[0;34m(\u001b[0m\u001b[0mh1\u001b[0m\u001b[0;34m.\u001b[0m\u001b[0mtext\u001b[0m\u001b[0;34m)\u001b[0m\u001b[0;34m\u001b[0m\u001b[0;34m\u001b[0m\u001b[0m\n\u001b[0m",
      "\u001b[0;32m~/opt/anaconda3/envs/PythonData/lib/python3.7/site-packages/bs4/element.py\u001b[0m in \u001b[0;36m__getattr__\u001b[0;34m(self, key)\u001b[0m\n\u001b[1;32m   2288\u001b[0m         \u001b[0;34m\"\"\"Raise a helpful exception to explain a common code fix.\"\"\"\u001b[0m\u001b[0;34m\u001b[0m\u001b[0;34m\u001b[0m\u001b[0m\n\u001b[1;32m   2289\u001b[0m         raise AttributeError(\n\u001b[0;32m-> 2290\u001b[0;31m             \u001b[0;34m\"ResultSet object has no attribute '%s'. You're probably treating a list of elements like a single element. Did you call find_all() when you meant to call find()?\"\u001b[0m \u001b[0;34m%\u001b[0m \u001b[0mkey\u001b[0m\u001b[0;34m\u001b[0m\u001b[0;34m\u001b[0m\u001b[0m\n\u001b[0m\u001b[1;32m   2291\u001b[0m         )\n",
      "\u001b[0;31mAttributeError\u001b[0m: ResultSet object has no attribute 'text'. You're probably treating a list of elements like a single element. Did you call find_all() when you meant to call find()?"
     ]
    }
   ],
   "source": [
    "h1 = html_soup.find_all(\"h1\")\n",
    "print(h1.text)"
   ]
  },
  {
   "cell_type": "code",
   "execution_count": 10,
   "metadata": {},
   "outputs": [
    {
     "data": {
      "text/plain": [
       "<div ,=\"\" class=\"section\" id=\"start\">\n",
       "<h3 class=\"section-header\">Getting Started</h3>\n",
       "<ul class=\"pandas-ul\">\n",
       "<a href=\"https://pandas.pydata.org/getting_started.html\">\n",
       "<li>Install pandas</li>\n",
       "</a>\n",
       "<a href=\"https://pandas.pydata.org/docs/getting_started/index.html\">\n",
       "<li>Getting started</li>\n",
       "</a>\n",
       "</ul>\n",
       "</div>"
      ]
     },
     "execution_count": 10,
     "metadata": {},
     "output_type": "execute_result"
    }
   ],
   "source": [
    "html_soup.find('div', {'id':'start'})"
   ]
  },
  {
   "cell_type": "code",
   "execution_count": 20,
   "metadata": {},
   "outputs": [
    {
     "data": {
      "text/plain": [
       "[]"
      ]
     },
     "execution_count": 20,
     "metadata": {},
     "output_type": "execute_result"
    }
   ],
   "source": [
    "html_soup.find_all('a', class_='href')"
   ]
  },
  {
   "cell_type": "code",
   "execution_count": null,
   "metadata": {},
   "outputs": [],
   "source": []
  }
 ],
 "metadata": {
  "kernelspec": {
   "display_name": "PythonData",
   "language": "python",
   "name": "python3"
  },
  "language_info": {
   "codemirror_mode": {
    "name": "ipython",
    "version": 3
   },
   "file_extension": ".py",
   "mimetype": "text/x-python",
   "name": "python",
   "nbconvert_exporter": "python",
   "pygments_lexer": "ipython3",
   "version": "3.7.13"
  },
  "orig_nbformat": 4,
  "vscode": {
   "interpreter": {
    "hash": "3ecfd2f8cc01d863369a9a80b1094e3d3a38bea70dceae99d13f4626e1163d93"
   }
  }
 },
 "nbformat": 4,
 "nbformat_minor": 2
}
