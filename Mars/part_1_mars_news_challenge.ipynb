{
 "cells": [
  {
   "cell_type": "markdown",
   "metadata": {},
   "source": [
    "# Module 12 Challenge\n",
    "## Deliverable 1: Scrape Titles and Preview Text from Mars News"
   ]
  },
  {
   "cell_type": "code",
   "execution_count": 42,
   "metadata": {},
   "outputs": [],
   "source": [
    "# Import Splinter and BeautifulSoup\n",
    "from splinter import Browser\n",
    "from bs4 import BeautifulSoup as soup\n",
    "from webdriver_manager.chrome import ChromeDriverManager\n",
    "import pandas as pd\n",
    "import json"
   ]
  },
  {
   "cell_type": "code",
   "execution_count": 43,
   "metadata": {
    "scrolled": true
   },
   "outputs": [],
   "source": [
    "executable_path = {'executable_path': ChromeDriverManager().install()}\n",
    "browser = Browser('chrome', **executable_path, headless=False)"
   ]
  },
  {
   "cell_type": "markdown",
   "metadata": {},
   "source": [
    "### Step 1: Visit the Website\n",
    "\n",
    "1. Use automated browsing to visit the [Mars NASA news site](https://redplanetscience.com). Inspect the page to identify which elements to scrape.\n",
    "\n",
    "      > **Hint** To identify which elements to scrape, you might want to inspect the page by using Chrome DevTools."
   ]
  },
  {
   "cell_type": "code",
   "execution_count": 44,
   "metadata": {},
   "outputs": [
    {
     "data": {
      "text/plain": [
       "True"
      ]
     },
     "execution_count": 44,
     "metadata": {},
     "output_type": "execute_result"
    }
   ],
   "source": [
    "# Visit the Mars NASA news site: https://redplanetscience.com\n",
    "url = 'https://redplanetscience.com'\n",
    "browser.visit(url)\n",
    "browser.is_element_present_by_css('div.list_text', wait_time=1)"
   ]
  },
  {
   "cell_type": "markdown",
   "metadata": {},
   "source": [
    "### Step 2: Scrape the Website\n",
    "\n",
    "Create a Beautiful Soup object and use it to extract text elements from the website."
   ]
  },
  {
   "cell_type": "code",
   "execution_count": 45,
   "metadata": {},
   "outputs": [],
   "source": [
    "# Create a Beautiful Soup object\n",
    "html = browser.html"
   ]
  },
  {
   "cell_type": "code",
   "execution_count": 46,
   "metadata": {},
   "outputs": [],
   "source": [
    "mars_soup = soup(html, \"html.parser\")"
   ]
  },
  {
   "cell_type": "code",
   "execution_count": 47,
   "metadata": {},
   "outputs": [],
   "source": [
    "# Extract all the text elements\n",
    "title = mars_soup.find_all('div', class_='content_title')\n",
    "preview = mars_soup.find_all('div', class_='article_teaser_body')"
   ]
  },
  {
   "attachments": {},
   "cell_type": "markdown",
   "metadata": {},
   "source": [
    "### Above does not work very well. Trying something else."
   ]
  },
  {
   "attachments": {},
   "cell_type": "markdown",
   "metadata": {},
   "source": [
    "### Extract all text elements."
   ]
  },
  {
   "cell_type": "code",
   "execution_count": 48,
   "metadata": {},
   "outputs": [
    {
     "name": "stdout",
     "output_type": "stream",
     "text": [
      "Article Count:  15\n",
      "<div class=\"col-md-8\">\n",
      "<div class=\"list_text\">\n",
      "<div class=\"list_date\">January 23, 2023</div>\n",
      "<div class=\"content_title\">New Selfie Shows Curiosity, the Mars Chemist</div>\n",
      "<div class=\"article_teaser_body\">The NASA rover performed a special chemistry experiment at the location captured in its newest self-portrait.</div>\n",
      "</div>\n",
      "</div>\n",
      "<div class=\"col-md-8\">\n",
      "<div class=\"list_text\">\n",
      "<div class=\"list_date\">January 22, 2023</div>\n",
      "<div class=\"content_title\">NASA's Mars 2020 Rover Closer to Getting Its Name</div>\n",
      "<div class=\"article_teaser_body\">155 students from across the U.S. have been chosen as semifinalists in NASA's essay contest to name the Mars 2020 rover, and see it launch from Cape Canaveral this July.</div>\n",
      "</div>\n",
      "</div>\n",
      "<div class=\"col-md-8\">\n",
      "<div class=\"list_text\">\n",
      "<div class=\"list_date\">January 19, 2023</div>\n",
      "<div class=\"content_title\">Two of a Space Kind: Apollo 12 and Mars 2020</div>\n",
      "<div class=\"article_teaser_body\">Apollo 12 and the upcoming Mars 2020 mission may be separated by half a century, but they share several goals unique in the annals of space exploration.</div>\n",
      "</div>\n",
      "</div>\n",
      "<div class=\"col-md-8\">\n",
      "<div class=\"list_text\">\n",
      "<div class=\"list_date\">January 18, 2023</div>\n",
      "<div class=\"content_title\">NASA's Curiosity Mars Rover Snaps Its Highest-Resolution Panorama Yet</div>\n",
      "<div class=\"article_teaser_body\">To go along with the stunning 1.8-billion-pixel image, a new video offers a sweeping view of the Red Planet.</div>\n",
      "</div>\n",
      "</div>\n",
      "<div class=\"col-md-8\">\n",
      "<div class=\"list_text\">\n",
      "<div class=\"list_date\">January 17, 2023</div>\n",
      "<div class=\"content_title\">From JPL's Mailroom to Mars and Beyond</div>\n",
      "<div class=\"article_teaser_body\">Bill Allen has thrived as the mechanical systems design lead for three Mars rover missions, but he got his start as a teenager sorting letters for the NASA center.</div>\n",
      "</div>\n",
      "</div>\n",
      "<div class=\"col-md-8\">\n",
      "<div class=\"list_text\">\n",
      "<div class=\"list_date\">January 10, 2023</div>\n",
      "<div class=\"content_title\">The Man Who Wanted to Fly on Mars</div>\n",
      "<div class=\"article_teaser_body\">The Mars Helicopter is riding to the Red Planet this summer with NASA's Perseverance rover. The helicopter's chief engineer, Bob Balaram, shares the saga of how it came into being.</div>\n",
      "</div>\n",
      "</div>\n",
      "<div class=\"col-md-8\">\n",
      "<div class=\"list_text\">\n",
      "<div class=\"list_date\">January 8, 2023</div>\n",
      "<div class=\"content_title\">NASA Establishes Board to Initially Review Mars Sample Return Plans</div>\n",
      "<div class=\"article_teaser_body\">The board will assist with analysis of current plans and goals for one of the most difficult missions humanity has ever undertaken.</div>\n",
      "</div>\n",
      "</div>\n",
      "<div class=\"col-md-8\">\n",
      "<div class=\"list_text\">\n",
      "<div class=\"list_date\">January 7, 2023</div>\n",
      "<div class=\"content_title\">Scientists Explore Outback as Testbed for Mars </div>\n",
      "<div class=\"article_teaser_body\">Australia provides a great place for NASA's Mars 2020 and the ESA-Roscosmos ExoMars scientists to hone techniques in preparation for searching for signs ancient life on Mars.</div>\n",
      "</div>\n",
      "</div>\n",
      "<div class=\"col-md-8\">\n",
      "<div class=\"list_text\">\n",
      "<div class=\"list_date\">January 5, 2023</div>\n",
      "<div class=\"content_title\">NASA's Perseverance Rover Will Look at Mars Through These 'Eyes'</div>\n",
      "<div class=\"article_teaser_body\">A pair of zoomable cameras will help scientists and rover drivers with high-resolution color images.</div>\n",
      "</div>\n",
      "</div>\n",
      "<div class=\"col-md-8\">\n",
      "<div class=\"list_text\">\n",
      "<div class=\"list_date\">January 2, 2023</div>\n",
      "<div class=\"content_title\">Common Questions about InSight's 'Mole'</div>\n",
      "<div class=\"article_teaser_body\">The following Q&amp;As with members of the team answer some of the most common questions about the burrowing device, part of a science instrument called the Heat Flow and Physical Properties Package (HP3).</div>\n",
      "</div>\n",
      "</div>\n",
      "<div class=\"col-md-8\">\n",
      "<div class=\"list_text\">\n",
      "<div class=\"list_date\">January 2, 2023</div>\n",
      "<div class=\"content_title\">Follow NASA's Perseverance Rover in Real Time on Its Way to Mars</div>\n",
      "<div class=\"article_teaser_body\">A crisply rendered web application can show you where the agency's Mars 2020 mission is right now as it makes its way to the Red Planet for a Feb. 18, 2021, landing.</div>\n",
      "</div>\n",
      "</div>\n",
      "<div class=\"col-md-8\">\n",
      "<div class=\"list_text\">\n",
      "<div class=\"list_date\">January 2, 2023</div>\n",
      "<div class=\"content_title\">Screening Soon: 'The Pathfinders' Trains Lens on Mars</div>\n",
      "<div class=\"article_teaser_body\">With the Mars 2020 mission ramping up, the documentary — the first of four about past JPL missions to the Red Planet to be shown at Caltech — tells a gripping backstory.</div>\n",
      "</div>\n",
      "</div>\n",
      "<div class=\"col-md-8\">\n",
      "<div class=\"list_text\">\n",
      "<div class=\"list_date\">January 1, 2023</div>\n",
      "<div class=\"content_title\">Robotic Toolkit Added to NASA's Mars 2020 Rover</div>\n",
      "<div class=\"article_teaser_body\">The bit carousel, which lies at the heart of the rover's Sample Caching System, is now aboard NASA's newest rover. </div>\n",
      "</div>\n",
      "</div>\n",
      "<div class=\"col-md-8\">\n",
      "<div class=\"list_text\">\n",
      "<div class=\"list_date\">January 1, 2023</div>\n",
      "<div class=\"content_title\">NASA's Mars Helicopter Attached to Mars 2020 Rover </div>\n",
      "<div class=\"article_teaser_body\">The helicopter will be first aircraft to perform flight tests on another planet.</div>\n",
      "</div>\n",
      "</div>\n",
      "<div class=\"col-md-8\">\n",
      "<div class=\"list_text\">\n",
      "<div class=\"list_date\">December 31, 2022</div>\n",
      "<div class=\"content_title\">NASA to Hold Mars 2020 Perseverance Rover Launch Briefing</div>\n",
      "<div class=\"article_teaser_body\">Learn more about the agency's next Red Planet mission during a live event on June 17.</div>\n",
      "</div>\n",
      "</div>\n"
     ]
    }
   ],
   "source": [
    "news_data = mars_soup.find_all('div', class_='col-md-8')\n",
    "# confirm articles are retrieved\n",
    "print('Article Count: ',len(news_data))\n",
    "for article in news_data:\n",
    "    print(article)"
   ]
  },
  {
   "cell_type": "code",
   "execution_count": 49,
   "metadata": {},
   "outputs": [
    {
     "name": "stdout",
     "output_type": "stream",
     "text": [
      "New Selfie Shows Curiosity, the Mars Chemist The NASA rover performed a special chemistry experiment at the location captured in its newest self-portrait.\n",
      "NASA's Mars 2020 Rover Closer to Getting Its Name 155 students from across the U.S. have been chosen as semifinalists in NASA's essay contest to name the Mars 2020 rover, and see it launch from Cape Canaveral this July.\n",
      "Two of a Space Kind: Apollo 12 and Mars 2020 Apollo 12 and the upcoming Mars 2020 mission may be separated by half a century, but they share several goals unique in the annals of space exploration.\n",
      "NASA's Curiosity Mars Rover Snaps Its Highest-Resolution Panorama Yet To go along with the stunning 1.8-billion-pixel image, a new video offers a sweeping view of the Red Planet.\n",
      "From JPL's Mailroom to Mars and Beyond Bill Allen has thrived as the mechanical systems design lead for three Mars rover missions, but he got his start as a teenager sorting letters for the NASA center.\n",
      "The Man Who Wanted to Fly on Mars The Mars Helicopter is riding to the Red Planet this summer with NASA's Perseverance rover. The helicopter's chief engineer, Bob Balaram, shares the saga of how it came into being.\n",
      "NASA Establishes Board to Initially Review Mars Sample Return Plans The board will assist with analysis of current plans and goals for one of the most difficult missions humanity has ever undertaken.\n",
      "Scientists Explore Outback as Testbed for Mars  Australia provides a great place for NASA's Mars 2020 and the ESA-Roscosmos ExoMars scientists to hone techniques in preparation for searching for signs ancient life on Mars.\n",
      "NASA's Perseverance Rover Will Look at Mars Through These 'Eyes' A pair of zoomable cameras will help scientists and rover drivers with high-resolution color images.\n",
      "Common Questions about InSight's 'Mole' The following Q&As with members of the team answer some of the most common questions about the burrowing device, part of a science instrument called the Heat Flow and Physical Properties Package (HP3).\n",
      "Follow NASA's Perseverance Rover in Real Time on Its Way to Mars A crisply rendered web application can show you where the agency's Mars 2020 mission is right now as it makes its way to the Red Planet for a Feb. 18, 2021, landing.\n",
      "Screening Soon: 'The Pathfinders' Trains Lens on Mars With the Mars 2020 mission ramping up, the documentary — the first of four about past JPL missions to the Red Planet to be shown at Caltech — tells a gripping backstory.\n",
      "Robotic Toolkit Added to NASA's Mars 2020 Rover The bit carousel, which lies at the heart of the rover's Sample Caching System, is now aboard NASA's newest rover. \n",
      "NASA's Mars Helicopter Attached to Mars 2020 Rover  The helicopter will be first aircraft to perform flight tests on another planet.\n",
      "NASA to Hold Mars 2020 Perseverance Rover Launch Briefing Learn more about the agency's next Red Planet mission during a live event on June 17.\n"
     ]
    }
   ],
   "source": [
    "for article in news_data:\n",
    "    # get article title\n",
    "    title = article.find('div', class_='content_title')\n",
    "    # get article preview\n",
    "    preview = article.find('div', class_='article_teaser_body')\n",
    "    # confirm results\n",
    "    print(title.text, preview.text)"
   ]
  },
  {
   "cell_type": "markdown",
   "metadata": {},
   "source": [
    "### Step 3: Store the Results\n",
    "\n",
    "Extract the titles and preview text of the news articles that you scraped. Store the scraping results in Python data structures as follows:\n",
    "\n",
    "* Store each title-and-preview pair in a Python dictionary. And, give each dictionary two keys: `title` and `preview`. An example is the following:\n",
    "\n",
    "  ```python\n",
    "  {'title': \"Mars Rover Begins Mission!\", \n",
    "        'preview': \"NASA's Mars Rover begins a multiyear mission to collect data about the little-explored planet.\"}\n",
    "  ```\n",
    "\n",
    "* Store all the dictionaries in a Python list.\n",
    "\n",
    "* Print the list in your notebook."
   ]
  },
  {
   "cell_type": "code",
   "execution_count": 50,
   "metadata": {},
   "outputs": [],
   "source": [
    "# Create an empty list to store the dictionaries\n",
    "news = []"
   ]
  },
  {
   "cell_type": "code",
   "execution_count": 26,
   "metadata": {},
   "outputs": [
    {
     "data": {
      "text/html": [
       "<div>\n",
       "<style scoped>\n",
       "    .dataframe tbody tr th:only-of-type {\n",
       "        vertical-align: middle;\n",
       "    }\n",
       "\n",
       "    .dataframe tbody tr th {\n",
       "        vertical-align: top;\n",
       "    }\n",
       "\n",
       "    .dataframe thead th {\n",
       "        text-align: right;\n",
       "    }\n",
       "</style>\n",
       "<table border=\"1\" class=\"dataframe\">\n",
       "  <thead>\n",
       "    <tr style=\"text-align: right;\">\n",
       "      <th></th>\n",
       "      <th>title</th>\n",
       "      <th>preview</th>\n",
       "    </tr>\n",
       "  </thead>\n",
       "  <tbody>\n",
       "    <tr>\n",
       "      <th>0</th>\n",
       "      <td>NASA's Perseverance Rover 100 Days Out</td>\n",
       "      <td>Mark your calendars: The agency's latest rover...</td>\n",
       "    </tr>\n",
       "    <tr>\n",
       "      <th>1</th>\n",
       "      <td>MAVEN Maps Electric Currents around Mars that ...</td>\n",
       "      <td>Five years after NASA’s MAVEN spacecraft enter...</td>\n",
       "    </tr>\n",
       "    <tr>\n",
       "      <th>2</th>\n",
       "      <td>NASA Moves Forward With Campaign to Return Mar...</td>\n",
       "      <td>During this next phase, the program will matur...</td>\n",
       "    </tr>\n",
       "    <tr>\n",
       "      <th>3</th>\n",
       "      <td>NASA's Mars Helicopter Attached to Mars 2020 R...</td>\n",
       "      <td>The helicopter will be first aircraft to perfo...</td>\n",
       "    </tr>\n",
       "    <tr>\n",
       "      <th>4</th>\n",
       "      <td>A New Video Captures the Science of NASA's Per...</td>\n",
       "      <td>With a targeted launch date of July 30, the ne...</td>\n",
       "    </tr>\n",
       "    <tr>\n",
       "      <th>5</th>\n",
       "      <td>NASA's Curiosity Mars Rover Takes a New Selfie...</td>\n",
       "      <td>Along with capturing an image before its steep...</td>\n",
       "    </tr>\n",
       "    <tr>\n",
       "      <th>6</th>\n",
       "      <td>NASA's Push to Save the Mars InSight Lander's ...</td>\n",
       "      <td>The scoop on the end of the spacecraft's robot...</td>\n",
       "    </tr>\n",
       "    <tr>\n",
       "      <th>7</th>\n",
       "      <td>5 Hidden Gems Are Riding Aboard NASA's Perseve...</td>\n",
       "      <td>The symbols, mottos, and small objects added t...</td>\n",
       "    </tr>\n",
       "    <tr>\n",
       "      <th>8</th>\n",
       "      <td>NASA Prepares for Moon and Mars With New Addit...</td>\n",
       "      <td>Robotic spacecraft will be able to communicate...</td>\n",
       "    </tr>\n",
       "    <tr>\n",
       "      <th>9</th>\n",
       "      <td>Robotic Toolkit Added to NASA's Mars 2020 Rover</td>\n",
       "      <td>The bit carousel, which lies at the heart of t...</td>\n",
       "    </tr>\n",
       "    <tr>\n",
       "      <th>10</th>\n",
       "      <td>Mars 2020 Stands on Its Own Six Wheels</td>\n",
       "      <td>In time-lapse video, taken at JPL, captures th...</td>\n",
       "    </tr>\n",
       "    <tr>\n",
       "      <th>11</th>\n",
       "      <td>Three New Views of Mars' Moon Phobos</td>\n",
       "      <td>Taken with the infrared camera aboard NASA's O...</td>\n",
       "    </tr>\n",
       "    <tr>\n",
       "      <th>12</th>\n",
       "      <td>Sensors on Mars 2020 Spacecraft Answer Long-Di...</td>\n",
       "      <td>Instruments tailored to collect data during th...</td>\n",
       "    </tr>\n",
       "    <tr>\n",
       "      <th>13</th>\n",
       "      <td>NASA's Perseverance Rover Attached to Atlas V ...</td>\n",
       "      <td>Ready for its launch later in the month, the M...</td>\n",
       "    </tr>\n",
       "    <tr>\n",
       "      <th>14</th>\n",
       "      <td>NASA's Mars Reconnaissance Orbiter Undergoes M...</td>\n",
       "      <td>Other orbiters will continue relaying data fro...</td>\n",
       "    </tr>\n",
       "  </tbody>\n",
       "</table>\n",
       "</div>"
      ],
      "text/plain": [
       "                                                title  \\\n",
       "0              NASA's Perseverance Rover 100 Days Out   \n",
       "1   MAVEN Maps Electric Currents around Mars that ...   \n",
       "2   NASA Moves Forward With Campaign to Return Mar...   \n",
       "3   NASA's Mars Helicopter Attached to Mars 2020 R...   \n",
       "4   A New Video Captures the Science of NASA's Per...   \n",
       "5   NASA's Curiosity Mars Rover Takes a New Selfie...   \n",
       "6   NASA's Push to Save the Mars InSight Lander's ...   \n",
       "7   5 Hidden Gems Are Riding Aboard NASA's Perseve...   \n",
       "8   NASA Prepares for Moon and Mars With New Addit...   \n",
       "9     Robotic Toolkit Added to NASA's Mars 2020 Rover   \n",
       "10             Mars 2020 Stands on Its Own Six Wheels   \n",
       "11               Three New Views of Mars' Moon Phobos   \n",
       "12  Sensors on Mars 2020 Spacecraft Answer Long-Di...   \n",
       "13  NASA's Perseverance Rover Attached to Atlas V ...   \n",
       "14  NASA's Mars Reconnaissance Orbiter Undergoes M...   \n",
       "\n",
       "                                              preview  \n",
       "0   Mark your calendars: The agency's latest rover...  \n",
       "1   Five years after NASA’s MAVEN spacecraft enter...  \n",
       "2   During this next phase, the program will matur...  \n",
       "3   The helicopter will be first aircraft to perfo...  \n",
       "4   With a targeted launch date of July 30, the ne...  \n",
       "5   Along with capturing an image before its steep...  \n",
       "6   The scoop on the end of the spacecraft's robot...  \n",
       "7   The symbols, mottos, and small objects added t...  \n",
       "8   Robotic spacecraft will be able to communicate...  \n",
       "9   The bit carousel, which lies at the heart of t...  \n",
       "10  In time-lapse video, taken at JPL, captures th...  \n",
       "11  Taken with the infrared camera aboard NASA's O...  \n",
       "12  Instruments tailored to collect data during th...  \n",
       "13  Ready for its launch later in the month, the M...  \n",
       "14  Other orbiters will continue relaying data fro...  "
      ]
     },
     "execution_count": 26,
     "metadata": {},
     "output_type": "execute_result"
    }
   ],
   "source": [
    "# Loop through the text elements\n",
    "# Extract the title and preview text from the elements\n",
    "# Store each title and preview pair in a dictionary\n",
    "# Add the dictionary to the list\n",
    "for article in news_data:\n",
    "    # Store the elements in a dictionary\n",
    "    article_data = {}\n",
    "    # confirm article title \n",
    "    title = article.find('div', class_='content_title')    \n",
    "    # confirm article preview\n",
    "    preview = article.find('div', class_='article_teaser_body')\n",
    "    # add data to its dict\n",
    "    article_data['title'] = title.text\n",
    "    article_data['preview'] = preview.text\n",
    "    # add dict to the list\n",
    "    news.append(article_data)\n",
    "\n",
    "# this snippet present because I wanted a different view on an error; leaving it cause it's pretty\n",
    "df = pd.DataFrame.from_dict(news)\n",
    "df"
   ]
  },
  {
   "cell_type": "code",
   "execution_count": 32,
   "metadata": {},
   "outputs": [
    {
     "data": {
      "text/plain": [
       "[{'title': \"NASA's Perseverance Rover 100 Days Out\",\n",
       "  'preview': \"Mark your calendars: The agency's latest rover has only about 8,640,000 seconds to go before it touches down on the Red Planet, becoming history's next Mars car.\"},\n",
       " {'title': 'MAVEN Maps Electric Currents around Mars that are Fundamental to Atmospheric Loss',\n",
       "  'preview': 'Five years after NASA’s MAVEN spacecraft entered into orbit around Mars, data from the mission has led to the creation of a map of electric current systems in the Martian atmosphere.'},\n",
       " {'title': 'NASA Moves Forward With Campaign to Return Mars Samples to Earth',\n",
       "  'preview': 'During this next phase, the program will mature critical technologies and make critical design decisions as well as assess industry partnerships.'},\n",
       " {'title': \"NASA's Mars Helicopter Attached to Mars 2020 Rover \",\n",
       "  'preview': 'The helicopter will be first aircraft to perform flight tests on another planet.'},\n",
       " {'title': \"A New Video Captures the Science of NASA's Perseverance Mars Rover\",\n",
       "  'preview': 'With a targeted launch date of July 30, the next robotic scientist NASA is sending to the to the Red Planet has big ambitions.'},\n",
       " {'title': \"NASA's Curiosity Mars Rover Takes a New Selfie Before Record Climb\",\n",
       "  'preview': 'Along with capturing an image before its steepest ascent ever, the robotic explorer filmed its \"selfie stick,\" or robotic arm, in action.'},\n",
       " {'title': \"NASA's Push to Save the Mars InSight Lander's Heat Probe\",\n",
       "  'preview': \"The scoop on the end of the spacecraft's robotic arm will be used to 'pin' the mole against the wall of its hole.\"},\n",
       " {'title': \"5 Hidden Gems Are Riding Aboard NASA's Perseverance Rover\",\n",
       "  'preview': \"The symbols, mottos, and small objects added to the agency's newest Mars rover serve a variety of purposes, from functional to decorative.\"},\n",
       " {'title': 'NASA Prepares for Moon and Mars With New Addition to Its Deep Space Network',\n",
       "  'preview': 'Robotic spacecraft will be able to communicate with the dish using radio waves and lasers.'},\n",
       " {'title': \"Robotic Toolkit Added to NASA's Mars 2020 Rover\",\n",
       "  'preview': \"The bit carousel, which lies at the heart of the rover's Sample Caching System, is now aboard NASA's newest rover. \"},\n",
       " {'title': 'Mars 2020 Stands on Its Own Six Wheels',\n",
       "  'preview': \"In time-lapse video, taken at JPL, captures the first time NASA's Mars 2020 rover carries its full weight on its legs and wheels.\"},\n",
       " {'title': \"Three New Views of Mars' Moon Phobos\",\n",
       "  'preview': \"Taken with the infrared camera aboard NASA's Odyssey orbiter, they reveal temperature variations on the small moon as it drifts into and out of Mars’ shadow.\"},\n",
       " {'title': 'Sensors on Mars 2020 Spacecraft Answer Long-Distance Call From Earth',\n",
       "  'preview': \"Instruments tailored to collect data during the descent of NASA's next rover through the Red Planet's atmosphere have been checked in flight.\"},\n",
       " {'title': \"NASA's Perseverance Rover Attached to Atlas V Rocket\",\n",
       "  'preview': 'Ready for its launch later in the month, the Mars-bound rover will touch terra firma no more.'},\n",
       " {'title': \"NASA's Mars Reconnaissance Orbiter Undergoes Memory Update\",\n",
       "  'preview': 'Other orbiters will continue relaying data from Mars surface missions for a two-week period.'}]"
      ]
     },
     "execution_count": 32,
     "metadata": {},
     "output_type": "execute_result"
    }
   ],
   "source": [
    "news"
   ]
  },
  {
   "cell_type": "code",
   "execution_count": 51,
   "metadata": {},
   "outputs": [],
   "source": [
    "browser.quit()"
   ]
  },
  {
   "cell_type": "markdown",
   "metadata": {},
   "source": [
    "### (Optional) Step 4: Export the Data\n",
    "\n",
    "Optionally, store the scraped data in a file or database (to ease sharing the data with others). To do so, export the scraped data to either a JSON file or a MongoDB database."
   ]
  },
  {
   "cell_type": "code",
   "execution_count": 41,
   "metadata": {},
   "outputs": [
    {
     "data": {
      "text/plain": [
       "'[{\"title\": \"NASA\\'s Perseverance Rover 100 Days Out\", \"preview\": \"Mark your calendars: The agency\\'s latest rover has only about 8,640,000 seconds to go before it touches down on the Red Planet, becoming history\\'s next Mars car.\"}, {\"title\": \"MAVEN Maps Electric Currents around Mars that are Fundamental to Atmospheric Loss\", \"preview\": \"Five years after NASA\\\\u2019s MAVEN spacecraft entered into orbit around Mars, data from the mission has led to the creation of a map of electric current systems in the Martian atmosphere.\"}, {\"title\": \"NASA Moves Forward With Campaign to Return Mars Samples to Earth\", \"preview\": \"During this next phase, the program will mature critical technologies and make critical design decisions as well as assess industry partnerships.\"}, {\"title\": \"NASA\\'s Mars Helicopter Attached to Mars 2020 Rover \", \"preview\": \"The helicopter will be first aircraft to perform flight tests on another planet.\"}, {\"title\": \"A New Video Captures the Science of NASA\\'s Perseverance Mars Rover\", \"preview\": \"With a targeted launch date of July 30, the next robotic scientist NASA is sending to the to the Red Planet has big ambitions.\"}, {\"title\": \"NASA\\'s Curiosity Mars Rover Takes a New Selfie Before Record Climb\", \"preview\": \"Along with capturing an image before its steepest ascent ever, the robotic explorer filmed its \\\\\"selfie stick,\\\\\" or robotic arm, in action.\"}, {\"title\": \"NASA\\'s Push to Save the Mars InSight Lander\\'s Heat Probe\", \"preview\": \"The scoop on the end of the spacecraft\\'s robotic arm will be used to \\'pin\\' the mole against the wall of its hole.\"}, {\"title\": \"5 Hidden Gems Are Riding Aboard NASA\\'s Perseverance Rover\", \"preview\": \"The symbols, mottos, and small objects added to the agency\\'s newest Mars rover serve a variety of purposes, from functional to decorative.\"}, {\"title\": \"NASA Prepares for Moon and Mars With New Addition to Its Deep Space Network\", \"preview\": \"Robotic spacecraft will be able to communicate with the dish using radio waves and lasers.\"}, {\"title\": \"Robotic Toolkit Added to NASA\\'s Mars 2020 Rover\", \"preview\": \"The bit carousel, which lies at the heart of the rover\\'s Sample Caching System, is now aboard NASA\\'s newest rover. \"}, {\"title\": \"Mars 2020 Stands on Its Own Six Wheels\", \"preview\": \"In time-lapse video, taken at JPL, captures the first time NASA\\'s Mars 2020 rover carries its full weight on its legs and wheels.\"}, {\"title\": \"Three New Views of Mars\\' Moon Phobos\", \"preview\": \"Taken with the infrared camera aboard NASA\\'s Odyssey orbiter, they reveal temperature variations on the small moon as it drifts into and out of Mars\\\\u2019 shadow.\"}, {\"title\": \"Sensors on Mars 2020 Spacecraft Answer Long-Distance Call From Earth\", \"preview\": \"Instruments tailored to collect data during the descent of NASA\\'s next rover through the Red Planet\\'s atmosphere have been checked in flight.\"}, {\"title\": \"NASA\\'s Perseverance Rover Attached to Atlas V Rocket\", \"preview\": \"Ready for its launch later in the month, the Mars-bound rover will touch terra firma no more.\"}, {\"title\": \"NASA\\'s Mars Reconnaissance Orbiter Undergoes Memory Update\", \"preview\": \"Other orbiters will continue relaying data from Mars surface missions for a two-week period.\"}]'"
      ]
     },
     "execution_count": 41,
     "metadata": {},
     "output_type": "execute_result"
    }
   ],
   "source": [
    "# Export data to JSON\n",
    "json.dumps(news)"
   ]
  },
  {
   "cell_type": "code",
   "execution_count": 30,
   "metadata": {},
   "outputs": [],
   "source": [
    "# Export data to MongoDB\n"
   ]
  }
 ],
 "metadata": {
  "kernelspec": {
   "display_name": "PythonData",
   "language": "python",
   "name": "python3"
  },
  "language_info": {
   "codemirror_mode": {
    "name": "ipython",
    "version": 3
   },
   "file_extension": ".py",
   "mimetype": "text/x-python",
   "name": "python",
   "nbconvert_exporter": "python",
   "pygments_lexer": "ipython3",
   "version": "3.7.13 (default, Mar 28 2022, 07:24:34) \n[Clang 12.0.0 ]"
  },
  "vscode": {
   "interpreter": {
    "hash": "3ecfd2f8cc01d863369a9a80b1094e3d3a38bea70dceae99d13f4626e1163d93"
   }
  }
 },
 "nbformat": 4,
 "nbformat_minor": 4
}
